{
 "cells": [
  {
   "cell_type": "markdown",
   "id": "480587b8",
   "metadata": {},
   "source": [
    "# Linear Regression Model"
   ]
  },
  {
   "cell_type": "code",
   "execution_count": 83,
   "id": "ab32188b",
   "metadata": {},
   "outputs": [],
   "source": [
    "dict = {'x':[2,2.4,1.5,3.5,3.5,3.5,3.5,3.7,3.7],\n",
    "        'y':[196,221,136,255,244,230,232,255,267]}"
   ]
  },
  {
   "cell_type": "code",
   "execution_count": 84,
   "id": "1b5b3906",
   "metadata": {},
   "outputs": [
    {
     "data": {
      "text/plain": [
       "3.03"
      ]
     },
     "execution_count": 84,
     "metadata": {},
     "output_type": "execute_result"
    }
   ],
   "source": [
    "avg_x =sum(dict['x'])/len(dict['x'])\n",
    "round(avg_x,2)"
   ]
  },
  {
   "cell_type": "code",
   "execution_count": 85,
   "id": "ba6ce865",
   "metadata": {},
   "outputs": [
    {
     "data": {
      "text/plain": [
       "226.22"
      ]
     },
     "execution_count": 85,
     "metadata": {},
     "output_type": "execute_result"
    }
   ],
   "source": [
    "avg_y =sum(dict['y'])/len(dict['y'])\n",
    "round(avg_y,2)"
   ]
  },
  {
   "cell_type": "markdown",
   "id": "1a611b96",
   "metadata": {},
   "source": [
    "# Equation\n",
    "y_ = theta + theta1*x_"
   ]
  },
  {
   "cell_type": "code",
   "execution_count": 86,
   "id": "d474acd4",
   "metadata": {},
   "outputs": [
    {
     "name": "stdout",
     "output_type": "stream",
     "text": [
      "coefficientt : 43.98446833930704\n"
     ]
    }
   ],
   "source": [
    "theta1 = 0\n",
    "t = 0\n",
    "a = 0\n",
    "for i in range (len(dict['x'])):\n",
    "    t = t + (dict['x'][i] - avg_x)*(dict['y'][i] - avg_y)\n",
    "    a = a + (dict['x'][i] - avg_x)**2\n",
    "theta1 = t/a\n",
    "print('coefficientt :', theta1)"
   ]
  },
  {
   "cell_type": "code",
   "execution_count": 87,
   "id": "421505b1",
   "metadata": {},
   "outputs": [
    {
     "name": "stdout",
     "output_type": "stream",
     "text": [
      "intercept : 92.80266825965754\n"
     ]
    }
   ],
   "source": [
    "theta = avg_y - theta1*avg_x\n",
    "print('intercept :',theta)"
   ]
  },
  {
   "cell_type": "code",
   "execution_count": 82,
   "id": "f3aa63ff",
   "metadata": {},
   "outputs": [
    {
     "name": "stdout",
     "output_type": "stream",
     "text": [
      "Enter your value : 4.2\n",
      "Predicted Value : 277.54\n"
     ]
    }
   ],
   "source": [
    "x_ = float(input('Enter your value : '))\n",
    "y_ = round(theta + theta1*x_,2)\n",
    "dict['x'].append(x_)\n",
    "dict['y'].append(y_)\n",
    "print('Predicted Value :',y_)"
   ]
  },
  {
   "cell_type": "code",
   "execution_count": 79,
   "id": "0e49e6e1",
   "metadata": {},
   "outputs": [
    {
     "data": {
      "text/plain": [
       "{'x': [2, 2.4, 1.5, 3.5, 3.5, 3.5, 3.5, 3.7, 3.7, 3.3, 5.0],\n",
       " 'y': [196, 221, 136, 255, 244, 230, 232, 255, 267, 237.95, 312.72]}"
      ]
     },
     "execution_count": 79,
     "metadata": {},
     "output_type": "execute_result"
    }
   ],
   "source": [
    "dict"
   ]
  },
  {
   "cell_type": "code",
   "execution_count": null,
   "id": "2b19c6ac",
   "metadata": {},
   "outputs": [],
   "source": []
  }
 ],
 "metadata": {
  "kernelspec": {
   "display_name": "Python 3 (ipykernel)",
   "language": "python",
   "name": "python3"
  },
  "language_info": {
   "codemirror_mode": {
    "name": "ipython",
    "version": 3
   },
   "file_extension": ".py",
   "mimetype": "text/x-python",
   "name": "python",
   "nbconvert_exporter": "python",
   "pygments_lexer": "ipython3",
   "version": "3.9.7"
  }
 },
 "nbformat": 4,
 "nbformat_minor": 5
}
